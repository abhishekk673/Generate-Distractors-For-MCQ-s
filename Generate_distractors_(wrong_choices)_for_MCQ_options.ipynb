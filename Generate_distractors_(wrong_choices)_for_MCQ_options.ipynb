{
 "cells": [
  {
   "cell_type": "markdown",
   "metadata": {
    "id": "MIkuRwdJ4aTg"
   },
   "source": [
    "## Sample Text : The Nile River\n",
    "\n",
    "The Greek historian knew what he was talking about. The Nile River fed Egyptian civilization for hundreds of years.\n",
    "\n",
    "The Longest River, The Nile is 4,160 miles long - the world’s longest river. It begins near the equator in Africa and flows north to the Mediterranean Sea. \n",
    "\n",
    "In the south it churns with cataracts. A cataract is a waterfall. Near the sea the Nile branches into a delta. A delta is an area near a river’s mouth where the water deposits fine soil called silt. In the delta, the Nile divides into many streams. \n",
    "\n",
    "The river is called the upper Nile in the south and the lower Nile in the north. For centuries, heavy rains in Ethiopia caused the Nile to flood every summer. The floods deposited rich soil along the Nile’s shores. This soil was fertile, which means it was good for growing crops. Unlike the Tigris and Euphrates, the Nile River flooded at the same time every year, so farmers could predict when to plant their crops."
   ]
  },
  {
   "cell_type": "markdown",
   "metadata": {
    "id": "6IADmXId46hg"
   },
   "source": [
    "## Question : Which is the world's longest river ?\n",
    "a) ____________________________________\n",
    "\n",
    "b) Nile \n",
    "\n",
    "c) ____________________________________\n",
    "\n",
    "d) ____________________________________\n",
    "\n",
    "\n",
    "\n",
    "---\n",
    "\n",
    "\n",
    "\n",
    "\n",
    "\n",
    "Nile -------------------->  Distractor generation algorithms ------> Missisipi, Amazon , Yangtze\n",
    "\n",
    "\n",
    "\n"
   ]
  },
  {
   "cell_type": "markdown",
   "metadata": {
    "id": "9IMp4TmB6hFJ"
   },
   "source": [
    "## 1. Using Wordnet to generate distractors (Wrong Choices) "
   ]
  },
  {
   "cell_type": "markdown",
   "metadata": {
    "id": "G9mzE1FI3xiV"
   },
   "source": [
    "https://wordnet.princeton.edu/citing-wordnet"
   ]
  },
  {
   "cell_type": "code",
   "execution_count": null,
   "metadata": {
    "colab": {
     "base_uri": "https://localhost:8080/"
    },
    "id": "fkTS7Z7M6vjh",
    "outputId": "9641143f-f215-4dbe-c73b-5e45850d9388"
   },
   "outputs": [],
   "source": [
    "!pip install nltk==3.5.0\n",
    "\n"
   ]
  },
  {
   "cell_type": "code",
   "execution_count": null,
   "metadata": {
    "colab": {
     "base_uri": "https://localhost:8080/"
    },
    "id": "Z13MspCd78rA",
    "outputId": "1e8a1d39-758b-404a-c370-dcdff3de65f4"
   },
   "outputs": [],
   "source": [
    "import nltk\n",
    "nltk.download('wordnet')\n",
    "\n",
    "from nltk.corpus import wordnet as wn"
   ]
  },
  {
   "cell_type": "code",
   "execution_count": null,
   "metadata": {
    "colab": {
     "base_uri": "https://localhost:8080/"
    },
    "id": "RmiQSn978uNu",
    "outputId": "a85c97c3-5d43-4a02-fb9e-ad258e9cf77b"
   },
   "outputs": [],
   "source": [
    "# synset single\n",
    "\n",
    "word = \"nile\"\n",
    "word = word.lower()\n",
    "syns = wn.synsets(word)\n",
    "\n",
    "for syn in syns:\n",
    "  print (syn, \": \",syn.definition(),\"\\n\" )\n",
    "\n"
   ]
  },
  {
   "cell_type": "code",
   "execution_count": null,
   "metadata": {
    "colab": {
     "base_uri": "https://localhost:8080/"
    },
    "id": "oCr8ja0h-z2I",
    "outputId": "24fec2fd-9453-439b-8cb5-af23845825e6"
   },
   "outputs": [],
   "source": [
    "# synset multiple\n",
    "\n",
    "word = \"bat\"\n",
    "word = word.lower()\n",
    "syns = wn.synsets(word)\n",
    "\n",
    "for syn in syns:\n",
    "  print (syn, \": \",syn.definition(),\"\\n\" )\n"
   ]
  },
  {
   "cell_type": "code",
   "execution_count": null,
   "metadata": {
    "colab": {
     "base_uri": "https://localhost:8080/"
    },
    "id": "iq2MNTknNz-S",
    "outputId": "f2a1a161-33a6-4818-9242-ab2c85c44756"
   },
   "outputs": [],
   "source": [
    "# get only noun synsets\n",
    "\n",
    "\n",
    "# Question : Which of these is a nocturnal animal that flies?\n",
    "# a) _________\n",
    "# b) _________\n",
    "# c) bat\n",
    "# d) _________\n",
    "\n",
    "\n",
    "word = \"bat\"\n",
    "word = word.lower()\n",
    "syns = wn.synsets(word,'n')\n",
    "\n",
    "for syn in syns:\n",
    "  print (syn, \": \",syn.definition(),\"\\n\" )"
   ]
  },
  {
   "cell_type": "code",
   "execution_count": null,
   "metadata": {
    "colab": {
     "base_uri": "https://localhost:8080/"
    },
    "id": "GylLV4rp_L5j",
    "outputId": "566b41ba-a4b0-422c-df7b-95051bd9b114"
   },
   "outputs": [],
   "source": [
    "# Get hypernyms for a synset\n",
    "\n",
    "word = \"lion\"\n",
    "word = word.lower()\n",
    "syns = wn.synsets(word,'n')\n",
    "\n",
    "\n",
    "hypernym = syns[0].hypernyms()\n",
    "print (hypernym)\n",
    "print (hypernym[0].hyponyms())"
   ]
  },
  {
   "cell_type": "code",
   "execution_count": null,
   "metadata": {
    "colab": {
     "base_uri": "https://localhost:8080/"
    },
    "id": "eTu7WgJF8pBR",
    "outputId": "cb03da8e-3f14-41be-c9ef-084c281c12ad"
   },
   "outputs": [],
   "source": [
    "# Distractors from Wordnet\n",
    "def get_distractors_wordnet(syn,word):\n",
    "    distractors=[]\n",
    "    word= word.lower()\n",
    "    orig_word = word\n",
    "    if len(word.split())>0:\n",
    "        word = word.replace(\" \",\"_\")\n",
    "    hypernym = syn.hypernyms()\n",
    "    if len(hypernym) == 0: \n",
    "        return distractors\n",
    "    for item in hypernym[0].hyponyms():\n",
    "        name = item.lemmas()[0].name()\n",
    "        #print (\"name \",name, \" word\",orig_word)\n",
    "        if name == orig_word:\n",
    "            continue\n",
    "        name = name.replace(\"_\",\" \")\n",
    "        name = \" \".join(w.capitalize() for w in name.split())\n",
    "        if name is not None and name not in distractors:\n",
    "            distractors.append(name)\n",
    "    return distractors\n",
    "\n",
    "\n",
    "original_word = \"lion\"\n",
    "synset_to_use = wn.synsets(original_word,'n')[0]\n",
    "distractors_calculated = get_distractors_wordnet(synset_to_use,original_word)\n",
    "\n",
    "print (\"original word: \",original_word.capitalize())\n",
    "print (distractors_calculated)\n",
    "\n",
    "\n",
    "original_word = \"bat\"\n",
    "synset_to_use = wn.synsets(original_word,'n')[0]\n",
    "distractors_calculated = get_distractors_wordnet(synset_to_use,original_word)\n",
    "\n",
    "print (\"\\noriginal word: \",original_word.capitalize())\n",
    "print (distractors_calculated)\n",
    "\n",
    "original_word = \"green\"\n",
    "synset_to_use = wn.synsets(original_word,'n')[0]\n",
    "distractors_calculated = get_distractors_wordnet(synset_to_use,original_word)\n",
    "\n",
    "print (\"\\noriginal word: \",original_word.capitalize())\n",
    "print (distractors_calculated)\n"
   ]
  },
  {
   "cell_type": "code",
   "execution_count": null,
   "metadata": {
    "colab": {
     "base_uri": "https://localhost:8080/"
    },
    "id": "JjAk9r461aYq",
    "outputId": "8029b82f-2a83-470e-b722-5920f3e6ebcc"
   },
   "outputs": [],
   "source": [
    "#  An example of a word with two different senses\n",
    "original_word = \"cricket\"\n",
    "\n",
    "syns = wn.synsets(original_word,'n')\n",
    "\n",
    "for syn in syns:\n",
    "  print (syn, \": \",syn.definition(),\"\\n\" )\n",
    "\n",
    "\n",
    "synset_to_use = wn.synsets(original_word,'n')[0]\n",
    "distractors_calculated = get_distractors_wordnet(synset_to_use,original_word)\n",
    "\n",
    "print (\"\\noriginal word: \",original_word.capitalize())\n",
    "print (distractors_calculated)\n",
    "\n",
    "\n",
    "original_word = \"cricket\"\n",
    "synset_to_use = wn.synsets(original_word,'n')[1]\n",
    "distractors_calculated = get_distractors_wordnet(synset_to_use,original_word)\n",
    "\n",
    "print (\"\\noriginal word: \",original_word.capitalize())\n",
    "print (distractors_calculated)"
   ]
  },
  {
   "cell_type": "markdown",
   "metadata": {
    "id": "-fHkvflE23f7"
   },
   "source": [
    "## 2. Using Conceptnet to generate distractors"
   ]
  },
  {
   "cell_type": "markdown",
   "metadata": {
    "id": "V4v8Ogp5GajK"
   },
   "source": [
    "https://conceptnet.io/"
   ]
  },
  {
   "cell_type": "markdown",
   "metadata": {
    "id": "6AyqbDyAJRAy"
   },
   "source": [
    "Question: Arnold Schwarzenegger served as a governor to which state?\n",
    "\n",
    "a) _________\n",
    "\n",
    "b) California\n",
    "\n",
    "c) _________\n",
    "\n",
    "d) _________"
   ]
  },
  {
   "cell_type": "code",
   "execution_count": null,
   "metadata": {
    "id": "ZeB1VIcYI8s-"
   },
   "outputs": [],
   "source": [
    "import requests\n",
    "import json\n",
    "import re\n",
    "import random\n",
    "import pprint"
   ]
  },
  {
   "cell_type": "markdown",
   "metadata": {
    "id": "hEU2RN4aMLJx"
   },
   "source": [
    "Conceptnet API Documentation\n",
    "\n",
    "https://github.com/commonsense/conceptnet5/wiki/API"
   ]
  },
  {
   "cell_type": "code",
   "execution_count": null,
   "metadata": {
    "colab": {
     "base_uri": "https://localhost:8080/"
    },
    "id": "-9aJG8gxK4ZY",
    "outputId": "411aebdd-9d72-455a-f983-c054832a15f0"
   },
   "outputs": [],
   "source": [
    "word = \"California\"\n",
    "word = word.lower()\n",
    "if (len(word.split())>0):\n",
    "  word = word.replace(\" \",\"_\")\n",
    "\n",
    "\n",
    "url = \"http://api.conceptnet.io/query?node=/c/en/%s/n&rel=/r/PartOf&start=/c/en/%s&limit=5\"%(word,word)\n",
    "obj = requests.get(url).json()\n",
    "\n",
    "pprint.pprint (obj)"
   ]
  },
  {
   "cell_type": "code",
   "execution_count": null,
   "metadata": {
    "colab": {
     "base_uri": "https://localhost:8080/"
    },
    "id": "ml3G8xmYNnyj",
    "outputId": "fc221cc4-8177-41ea-d3a6-bf892d6410a7"
   },
   "outputs": [],
   "source": [
    "for edge in obj['edges']:\n",
    "  link = edge['end']['term']\n",
    "  print (link)"
   ]
  },
  {
   "cell_type": "code",
   "execution_count": null,
   "metadata": {
    "colab": {
     "base_uri": "https://localhost:8080/"
    },
    "id": "6BS5B-Knbl8g",
    "outputId": "60bdee92-6367-4945-864c-73a719e5da43"
   },
   "outputs": [],
   "source": [
    "word = \"California\"\n",
    "word = word.lower()\n",
    "if (len(word.split())>0):\n",
    "  word = word.replace(\" \",\"_\")\n",
    "\n",
    "\n",
    "# url = \"http://api.conceptnet.io/query?node=/c/en/%s/n\"%(word)\n",
    "# url = \"http://api.conceptnet.io/query?node=/c/en/%s/n&rel=/r/PartOf\"%(word)\n",
    "url = \"http://api.conceptnet.io/query?node=/c/en/%s/n&rel=/r/PartOf&start=/c/en/%s\"%(word,word)\n",
    "obj = requests.get(url).json()\n",
    "\n",
    "pprint.pprint (obj)"
   ]
  },
  {
   "cell_type": "code",
   "execution_count": null,
   "metadata": {
    "colab": {
     "base_uri": "https://localhost:8080/"
    },
    "id": "yqwL6fPQeSG6",
    "outputId": "a0a9bb00-55d2-434b-e203-76076eef6fed"
   },
   "outputs": [],
   "source": [
    "for edge in obj['edges']:\n",
    "  link = edge['end']['term']\n",
    "  print (link)"
   ]
  },
  {
   "cell_type": "code",
   "execution_count": null,
   "metadata": {
    "colab": {
     "base_uri": "https://localhost:8080/"
    },
    "id": "uvZraDdkjMLr",
    "outputId": "7bf9bedc-c1ea-47d0-b0b5-3aafd0a60a48"
   },
   "outputs": [],
   "source": [
    "\n",
    "for edge in obj['edges']:\n",
    "  link = edge['end']['term'] \n",
    "  print (link)\n",
    "  distractor_list = []\n",
    "  url2 = \"http://api.conceptnet.io/query?node=%s&rel=/r/PartOf&end=%s&limit=10\"%(link,link)\n",
    "  obj2 = requests.get(url2).json()\n",
    "  for edge in obj2['edges']:\n",
    "      word2 = edge['start']['label']\n",
    "      if word2 not in distractor_list and word.lower() not in word2.lower():\n",
    "          distractor_list.append(word2)\n",
    "  print (distractor_list)\n",
    "  print (\"\\n\")"
   ]
  },
  {
   "cell_type": "code",
   "execution_count": null,
   "metadata": {
    "colab": {
     "base_uri": "https://localhost:8080/"
    },
    "id": "roiBNFJFkEaW",
    "outputId": "4016210e-5629-4e6b-e277-8d5c8bebff47"
   },
   "outputs": [],
   "source": [
    "# putting everything together\n",
    "# Distractors from http://conceptnet.io/\n",
    "def get_distractors_conceptnet(word):\n",
    "    word = word.lower()\n",
    "    original_word= word\n",
    "    if (len(word.split())>0):\n",
    "        word = word.replace(\" \",\"_\")\n",
    "    distractor_list = [] \n",
    "    url = \"http://api.conceptnet.io/query?node=/c/en/%s/n&rel=/r/PartOf&start=/c/en/%s&limit=5\"%(word,word)\n",
    "    obj = requests.get(url).json()\n",
    "\n",
    "    for edge in obj['edges']:\n",
    "        link = edge['end']['term'] \n",
    "\n",
    "        url2 = \"http://api.conceptnet.io/query?node=%s&rel=/r/PartOf&end=%s&limit=10\"%(link,link)\n",
    "        obj2 = requests.get(url2).json()\n",
    "        for edge in obj2['edges']:\n",
    "            word2 = edge['start']['label']\n",
    "            if word2 not in distractor_list and original_word.lower() not in word2.lower():\n",
    "                distractor_list.append(word2)\n",
    "                   \n",
    "    return distractor_list\n",
    "\n",
    "original_word = \"California\"\n",
    "distractors = get_distractors_conceptnet(original_word)\n",
    "\n",
    "print (\"Original word: \",original_word)\n",
    "print (\"\\nDistractors \",distractors)"
   ]
  },
  {
   "cell_type": "markdown",
   "metadata": {
    "id": "zcnbEBNKBVQP"
   },
   "source": [
    "## 3. Using Wordvectors (sense2vec) to generate distractors"
   ]
  },
  {
   "cell_type": "markdown",
   "metadata": {
    "id": "VLqP0t7YBehq"
   },
   "source": [
    "https://github.com/explosion/sense2vec"
   ]
  },
  {
   "cell_type": "markdown",
   "metadata": {
    "id": "1mtgzRVTZO4t"
   },
   "source": [
    "Download sense2vec wordvectors and unzip them"
   ]
  },
  {
   "cell_type": "code",
   "execution_count": null,
   "metadata": {
    "colab": {
     "base_uri": "https://localhost:8080/"
    },
    "id": "1pFeI21keY_T",
    "outputId": "1264c3dd-a0a8-4908-feee-e6b8f070123d"
   },
   "outputs": [],
   "source": [
    "!pip install sense2vec==1.0.2"
   ]
  },
  {
   "cell_type": "code",
   "execution_count": null,
   "metadata": {
    "colab": {
     "base_uri": "https://localhost:8080/"
    },
    "id": "QWL0HdMEZXl1",
    "outputId": "53092c05-0748-4af2-d214-789cec90808d"
   },
   "outputs": [],
   "source": [
    "!wget https://github.com/explosion/sense2vec/releases/download/v1.0.0/s2v_reddit_2015_md.tar.gz"
   ]
  },
  {
   "cell_type": "code",
   "execution_count": null,
   "metadata": {
    "colab": {
     "base_uri": "https://localhost:8080/"
    },
    "id": "80ZcqDV8Zcse",
    "outputId": "f8f0bcf5-d4d4-4fad-a0b4-8abfbc759d42"
   },
   "outputs": [],
   "source": [
    "!tar -xvf  s2v_reddit_2015_md.tar.gz"
   ]
  },
  {
   "cell_type": "code",
   "execution_count": null,
   "metadata": {
    "colab": {
     "base_uri": "https://localhost:8080/"
    },
    "id": "TGCgIZGlZgSQ",
    "outputId": "fd1fc51a-faa2-4814-e618-9047c800231d"
   },
   "outputs": [],
   "source": [
    "!ls s2v_old"
   ]
  },
  {
   "cell_type": "code",
   "execution_count": null,
   "metadata": {
    "id": "g9gTgCnfaHTv"
   },
   "outputs": [],
   "source": [
    "# load sense2vec vectors\n",
    "from sense2vec import Sense2Vec\n",
    "s2v = Sense2Vec().from_disk('s2v_old')"
   ]
  },
  {
   "cell_type": "markdown",
   "metadata": {
    "id": "_PqzoxLfg-PD"
   },
   "source": [
    "Who is the 45th president of the United States?\n",
    "\n",
    "a) ___________\n",
    "\n",
    "b) ___________\n",
    "\n",
    "c) Donald Trump\n",
    "\n",
    "d) ___________"
   ]
  },
  {
   "cell_type": "code",
   "execution_count": null,
   "metadata": {
    "colab": {
     "base_uri": "https://localhost:8080/"
    },
    "id": "mzAt0CP_gssV",
    "outputId": "23102195-45fd-4a4c-d2c3-9b8d98baae9f"
   },
   "outputs": [],
   "source": [
    "word = \"Donald Trump\"\n",
    "word = word.lower()\n",
    "word = word.replace(\" \", \"_\")\n",
    "\n",
    "print (\"word \",word)\n",
    "\n",
    "sense = s2v.get_best_sense(word)\n",
    "\n",
    "print (\"Best sense \",sense)\n",
    "most_similar = s2v.most_similar(sense, n=12)\n",
    "\n",
    "\n",
    "print (most_similar)\n"
   ]
  },
  {
   "cell_type": "code",
   "execution_count": null,
   "metadata": {
    "colab": {
     "base_uri": "https://localhost:8080/"
    },
    "id": "TJRI3S8FiXzM",
    "outputId": "c0d73d57-a75e-45f3-eba8-c7b206d3a09d"
   },
   "outputs": [],
   "source": [
    "distractors = []\n",
    "\n",
    "for each_word in most_similar:\n",
    "  append_word = each_word[0].split(\"|\")[0].replace(\"_\", \" \").lower()\n",
    "  if append_word.lower() != word:\n",
    "      distractors.append(append_word.title())\n",
    "\n",
    "print (distractors)"
   ]
  },
  {
   "cell_type": "code",
   "execution_count": null,
   "metadata": {
    "colab": {
     "base_uri": "https://localhost:8080/"
    },
    "id": "Wy0ZSo3bi5Y9",
    "outputId": "9e4f0af8-bd8b-4410-eab0-ad181e28063b"
   },
   "outputs": [],
   "source": [
    "from collections import OrderedDict\n",
    "def sense2vec_get_words(word,s2v):\n",
    "    output = []\n",
    "    word = word.lower()\n",
    "    word = word.replace(\" \", \"_\")\n",
    "\n",
    "    sense = s2v.get_best_sense(word)\n",
    "    most_similar = s2v.most_similar(sense, n=20)\n",
    "\n",
    "    # print (\"most_similar \",most_similar)\n",
    "\n",
    "    for each_word in most_similar:\n",
    "        append_word = each_word[0].split(\"|\")[0].replace(\"_\", \" \").lower()\n",
    "        if append_word.lower() != word:\n",
    "            output.append(append_word.title())\n",
    "\n",
    "    out = list(OrderedDict.fromkeys(output))\n",
    "    return out\n",
    "\n",
    "word = \"Natural Language processing\"\n",
    "distractors = sense2vec_get_words(word,s2v)\n",
    "\n",
    "print (\"Distractors for \",word, \" : \")\n",
    "print (distractors)"
   ]
  },
  {
   "cell_type": "code",
   "execution_count": null,
   "metadata": {
    "colab": {
     "base_uri": "https://localhost:8080/"
    },
    "id": "-w7j5_2Lj0e_",
    "outputId": "9a61b666-8fb1-4c01-a4ce-aa99358ab433"
   },
   "outputs": [],
   "source": [
    "word = \"USA\"\n",
    "distractors = sense2vec_get_words(word,s2v)\n",
    "\n",
    "print (\"Distractors for \",word, \" : \")\n",
    "print (distractors)"
   ]
  },
  {
   "cell_type": "markdown",
   "metadata": {
    "id": "U9wmEDvr7sFB"
   },
   "source": [
    "## Assignment Solution - Filter distractors"
   ]
  },
  {
   "cell_type": "code",
   "execution_count": null,
   "metadata": {
    "colab": {
     "base_uri": "https://localhost:8080/"
    },
    "id": "oJZYuBM-7z4l",
    "outputId": "87b39c92-2454-448c-ecb8-6c8d0782219a"
   },
   "outputs": [],
   "source": [
    "!pip install strsim==0.0.3"
   ]
  },
  {
   "cell_type": "code",
   "execution_count": null,
   "metadata": {
    "colab": {
     "base_uri": "https://localhost:8080/"
    },
    "id": "6j_iVh098xhA",
    "outputId": "cbf7b1ab-17d4-4fc8-a374-ad625e7e6b66"
   },
   "outputs": [],
   "source": [
    "import string\n",
    "# A function to get all the edits for a word\n",
    "def edits(word):\n",
    "    \"All edits that are one edit away from `word`.\"\n",
    "    letters    = 'abcdefghijklmnopqrstuvwxyz '+string.punctuation\n",
    "    splits     = [(word[:i], word[i:])    for i in range(len(word) + 1)]\n",
    "    deletes    = [L + R[1:]               for L, R in splits if R]\n",
    "    transposes = [L + R[1] + R[0] + R[2:] for L, R in splits if len(R)>1]\n",
    "    replaces   = [L + c + R[1:]           for L, R in splits if R for c in letters]\n",
    "    inserts    = [L + c + R               for L, R in splits for c in letters]\n",
    "    return set(deletes + transposes + replaces + inserts)\n",
    "\n",
    "print (edits(\"cat\"))"
   ]
  },
  {
   "cell_type": "code",
   "execution_count": null,
   "metadata": {
    "colab": {
     "base_uri": "https://localhost:8080/"
    },
    "id": "pVZSttVHIM1R",
    "outputId": "dc3e6e27-0468-43b5-b926-98226fb376b0"
   },
   "outputs": [],
   "source": [
    "word = \"USA\"\n",
    "distractors = sense2vec_get_words(word,s2v)\n",
    "\n",
    "print (\"Distractors for \",word, \" : \")\n",
    "print (distractors)"
   ]
  },
  {
   "cell_type": "code",
   "execution_count": null,
   "metadata": {
    "colab": {
     "base_uri": "https://localhost:8080/"
    },
    "id": "U8wQhYsRI7wb",
    "outputId": "e7b5251a-6cb6-4e8c-f1c9-4b726a522316"
   },
   "outputs": [],
   "source": [
    "all_edits = edits (word.lower())\n",
    "print (all_edits)"
   ]
  },
  {
   "cell_type": "code",
   "execution_count": null,
   "metadata": {
    "colab": {
     "base_uri": "https://localhost:8080/"
    },
    "id": "bBCPtA3HJIGd",
    "outputId": "28ebd32e-aa57-44ca-fee1-8d2a9a92154c"
   },
   "outputs": [],
   "source": [
    "filtered_distractors_edit_distance = [x for x in distractors if x.lower() not in all_edits]\n",
    "print (filtered_distractors_edit_distance)"
   ]
  },
  {
   "cell_type": "code",
   "execution_count": null,
   "metadata": {
    "id": "oOfDpeOlTgHs"
   },
   "outputs": [],
   "source": [
    "from similarity.normalized_levenshtein import NormalizedLevenshtein\n",
    "normalized_levenshtein = NormalizedLevenshtein()"
   ]
  },
  {
   "cell_type": "code",
   "execution_count": null,
   "metadata": {
    "colab": {
     "base_uri": "https://localhost:8080/"
    },
    "id": "UaSo04a4TjfH",
    "outputId": "ef082a18-536e-4975-bc0d-c8aeb16f9fc3"
   },
   "outputs": [],
   "source": [
    "\n",
    "print (\"Levenshtein Distance USA  & U.S.A  ->\", normalized_levenshtein.distance(\"USA\",\"U.S.A\"))\n",
    "print (\"Levenshtein Distance USA  & U.S  ->\", normalized_levenshtein.distance(\"USA\",\"U.S\"))\n",
    "print (\"Levenshtein Distance USA  & America  ->\", normalized_levenshtein.distance(\"USA\",\"America\"))\n",
    "print (\"Levenshtein Distance USA  & Canada  ->\", normalized_levenshtein.distance(\"USA\",\"Canada\"))\n",
    "print (\"Levenshtein Distance USA  & United States  ->\", normalized_levenshtein.distance(\"USA\",\"United States\"))"
   ]
  },
  {
   "cell_type": "code",
   "execution_count": null,
   "metadata": {
    "colab": {
     "base_uri": "https://localhost:8080/"
    },
    "id": "cFbwVj1ObLcb",
    "outputId": "07f79ae5-e3e4-4073-a880-1e81a54f5d96"
   },
   "outputs": [],
   "source": [
    "threshold = 0.7\n",
    "filtered_distractors_edit_distance_and_levenshtein_distance =[[x for x in filtered_distractors_edit_distance if normalized_levenshtein.distance(x.lower(),word.lower())>threshold] ]\n",
    "print (filtered_distractors_edit_distance_and_levenshtein_distance)"
   ]
  },
  {
   "cell_type": "code",
   "execution_count": null,
   "metadata": {
    "colab": {
     "base_uri": "https://localhost:8080/"
    },
    "id": "DYQVvewgbq1x",
    "outputId": "093eb5f4-01b5-4c48-87e7-4506f5d3e68e"
   },
   "outputs": [],
   "source": [
    "print (distractors)"
   ]
  }
 ],
 "metadata": {
  "colab": {
   "collapsed_sections": [
    "zcnbEBNKBVQP",
    "U9wmEDvr7sFB"
   ],
   "name": "Section 2 - Generate distractors (wrong choices) for MCQ options.ipynb",
   "provenance": []
  },
  "kernelspec": {
   "display_name": "Python 3",
   "language": "python",
   "name": "python3"
  },
  "language_info": {
   "codemirror_mode": {
    "name": "ipython",
    "version": 3
   },
   "file_extension": ".py",
   "mimetype": "text/x-python",
   "name": "python",
   "nbconvert_exporter": "python",
   "pygments_lexer": "ipython3",
   "version": "3.7.6"
  }
 },
 "nbformat": 4,
 "nbformat_minor": 1
}
